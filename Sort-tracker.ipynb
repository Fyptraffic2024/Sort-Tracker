{
 "cells": [
  {
   "cell_type": "markdown",
   "metadata": {},
   "source": [
    "Sort Tracker"
   ]
  },
  {
   "cell_type": "markdown",
   "metadata": {},
   "source": [
    "Importing Libraries"
   ]
  },
  {
   "cell_type": "code",
   "execution_count": null,
   "metadata": {},
   "outputs": [],
   "source": [
    "import cv2\n",
    "import numpy as np\n",
    "from sort import Sort  \n",
    "import torchvision\n",
    "import torch\n",
    "from torchvision import transforms\n",
    "from PIL import Image\n",
    "import random"
   ]
  },
  {
   "cell_type": "markdown",
   "metadata": {},
   "source": [
    "Load the model and define the dictionaries"
   ]
  },
  {
   "cell_type": "code",
   "execution_count": null,
   "metadata": {},
   "outputs": [],
   "source": [
    "# Load YOLO model \n",
    "model = torchvision.models.detection.fasterrcnn_resnet50_fpn(weights=True)  \n",
    "model.eval()  \n",
    "\n",
    "# Define the image transformation\n",
    "transform = transforms.Compose([\n",
    "    transforms.ToTensor(),  \n",
    "])\n",
    "\n",
    "# Dictionary for colors and trajectories\n",
    "id_color_map = {}\n",
    "trajectories = {}\n"
   ]
  },
  {
   "cell_type": "markdown",
   "metadata": {},
   "source": [
    "Get the color for different id's"
   ]
  },
  {
   "cell_type": "code",
   "execution_count": null,
   "metadata": {},
   "outputs": [],
   "source": [
    "def get_color_for_id(track_id):\n",
    "    if track_id not in id_color_map:\n",
    "        \n",
    "        id_color_map[track_id] = [random.randint(0, 255) for _ in range(3)]\n",
    "    return id_color_map[track_id]"
   ]
  },
  {
   "cell_type": "markdown",
   "metadata": {},
   "source": [
    "Detect the Object in Frame"
   ]
  },
  {
   "cell_type": "code",
   "execution_count": null,
   "metadata": {},
   "outputs": [],
   "source": [
    "def detect_objects_in_frame(frame):\n",
    "    \n",
    "    img = Image.fromarray(cv2.cvtColor(frame, cv2.COLOR_BGR2RGB))\n",
    "    img_tensor = transform(img).unsqueeze(0)  # Add batch dimension\n",
    "\n",
    "    # Perform inference\n",
    "    with torch.no_grad():\n",
    "        predictions = model(img_tensor)[0]\n",
    "\n",
    "    boxes = []\n",
    "    confidences = []\n",
    "    \n",
    "    for box, score, label in zip(predictions['boxes'], predictions['scores'], predictions['labels']):\n",
    "        if score > 0.5 and ((label.item() == 3) or (label.item() == 10)):  # 3: car, 10: traffic light\n",
    "            xmin, ymin, xmax, ymax = box.int().tolist()\n",
    "            boxes.append([xmin, ymin, xmax, ymax])\n",
    "            confidences.append(score.item())\n",
    " \n",
    "    return boxes, confidences"
   ]
  },
  {
   "cell_type": "code",
   "execution_count": null,
   "metadata": {},
   "outputs": [],
   "source": [
    "def process_video(input_video_path, output_video_path):\n",
    "    cap = cv2.VideoCapture(input_video_path)\n",
    "    if not cap.isOpened():\n",
    "        print(\"Error opening video file.\")\n",
    "        return\n",
    "\n",
    "    fps = cap.get(cv2.CAP_PROP_FPS)\n",
    "    width = int(cap.get(cv2.CAP_PROP_FRAME_WIDTH))\n",
    "    height = int(cap.get(cv2.CAP_PROP_FRAME_HEIGHT))\n",
    "\n",
    "    # Define the codec and create VideoWriter object\n",
    "    fourcc = cv2.VideoWriter_fourcc(*'mp4v')  # or use 'mp4v' for .mp4 files\n",
    "    out = cv2.VideoWriter(output_video_path, fourcc, fps, (width, height))\n",
    "\n",
    "    # Initialize SORT Tracker\n",
    "    tracker = Sort()\n",
    "    \n",
    "    total_frames = int(cap.get(cv2.CAP_PROP_FRAME_COUNT)) \n",
    "    frame_count = 0  \n",
    "    \n",
    "    while cap.isOpened():\n",
    "        ret, frame = cap.read()\n",
    "        if not ret:\n",
    "            break\n",
    "        \n",
    "        frame_count += 1  \n",
    "    \n",
    "        boxes, confidences = detect_objects_in_frame(frame)\n",
    "        detections = [[xmin, ymin, xmax, ymax, conf] for (xmin, ymin, xmax, ymax), conf in zip(boxes, confidences)]\n",
    "        trackers = tracker.update(np.array(detections))\n",
    "\n",
    "        # Draw bounding boxes, tracker IDs, and trajectories on the frame\n",
    "        for trk in trackers:\n",
    "            x1, y1, x2, y2, track_id = trk\n",
    "            x1, y1, x2, y2 = int(x1), int(y1), int(x2), int(y2)\n",
    "\n",
    "            color = get_color_for_id(int(track_id))\n",
    "            \n",
    "            # Draw bounding box\n",
    "            cv2.rectangle(frame, (x1, y1), (x2, y2), color, 2)\n",
    "            label = f'ID {int(track_id)}'\n",
    "            cv2.putText(frame, label, (x1, y1 - 10), cv2.FONT_HERSHEY_SIMPLEX, 0.75, color, 2)\n",
    "\n",
    "            # Get the center of the current bounding box\n",
    "            center = (x1 + (x2 - x1) // 2, y1 + (y2 - y1) // 2)\n",
    "\n",
    "            # Store trajectory for this object\n",
    "            if track_id not in trajectories:\n",
    "                trajectories[track_id] = []\n",
    "            trajectories[track_id].append(center)\n",
    "\n",
    "            # Draw the trajectory line for this object\n",
    "            for j in range(1, len(trajectories[track_id])):\n",
    "                if trajectories[track_id][j - 1] is None or trajectories[track_id][j] is None:\n",
    "                    continue\n",
    "                cv2.line(frame, trajectories[track_id][j - 1], trajectories[track_id][j], color, 2)\n",
    "\n",
    "        # Remove trajectories of objects that are no longer tracked\n",
    "        for track_id in list(trajectories.keys()):\n",
    "            if track_id not in trackers[:, 4]:\n",
    "                del trajectories[track_id]\n",
    "\n",
    "        # Write the frame to the output video\n",
    "        out.write(frame)\n",
    "        if frame_count % 5 == 0:\n",
    "            print(f'Processing frame {frame_count}/{total_frames}')\n",
    "\n",
    "    cap.release()\n",
    "    out.release()\n",
    "    cv2.destroyAllWindows()"
   ]
  },
  {
   "cell_type": "code",
   "execution_count": null,
   "metadata": {},
   "outputs": [],
   "source": [
    "input_video_path = 'FaisalTown.mp4' \n",
    "output_video_path = 'output_trajectory.mp4'  \n",
    "process_video(input_video_path, output_video_path)"
   ]
  }
 ],
 "metadata": {
  "kernelspec": {
   "display_name": "Python 3",
   "language": "python",
   "name": "python3"
  },
  "language_info": {
   "codemirror_mode": {
    "name": "ipython",
    "version": 3
   },
   "file_extension": ".py",
   "mimetype": "text/x-python",
   "name": "python",
   "nbconvert_exporter": "python",
   "pygments_lexer": "ipython3",
   "version": "3.10.12"
  }
 },
 "nbformat": 4,
 "nbformat_minor": 2
}
